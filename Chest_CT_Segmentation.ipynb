{
  "nbformat": 4,
  "nbformat_minor": 0,
  "metadata": {
    "colab": {
      "provenance": [],
      "authorship_tag": "ABX9TyMEjiV62HplgC1wCEXdhfF3",
      "include_colab_link": true
    },
    "kernelspec": {
      "name": "python3",
      "display_name": "Python 3"
    },
    "language_info": {
      "name": "python"
    }
  },
  "cells": [
    {
      "cell_type": "markdown",
      "metadata": {
        "id": "view-in-github",
        "colab_type": "text"
      },
      "source": [
        "<a href=\"https://colab.research.google.com/github/mjang01011/chest_ct_segmentation/blob/main/Chest_CT_Segmentation.ipynb\" target=\"_parent\"><img src=\"https://colab.research.google.com/assets/colab-badge.svg\" alt=\"Open In Colab\"/></a>"
      ]
    },
    {
      "cell_type": "code",
      "execution_count": null,
      "metadata": {
        "id": "lum0hKj2y8_J"
      },
      "outputs": [],
      "source": [
        "import os\n",
        "import pandas as pd"
      ]
    },
    {
      "cell_type": "markdown",
      "source": [
        "Original Dataset: https://www.kaggle.com/datasets/polomarco/chest-ct-segmentation"
      ],
      "metadata": {
        "id": "M-byHU4d00Xv"
      }
    },
    {
      "cell_type": "code",
      "source": [
        "data_dir ="
      ],
      "metadata": {
        "id": "x2O8rujRzGdB"
      },
      "execution_count": null,
      "outputs": []
    }
  ]
}