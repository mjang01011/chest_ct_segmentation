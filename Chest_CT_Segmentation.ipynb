{
  "nbformat": 4,
  "nbformat_minor": 0,
  "metadata": {
    "colab": {
      "provenance": [],
      "authorship_tag": "ABX9TyNPMGCh2iheiQ/rHdTNEBKu",
      "include_colab_link": true
    },
    "kernelspec": {
      "name": "python3",
      "display_name": "Python 3"
    },
    "language_info": {
      "name": "python"
    }
  },
  "cells": [
    {
      "cell_type": "markdown",
      "metadata": {
        "id": "view-in-github",
        "colab_type": "text"
      },
      "source": [
        "<a href=\"https://colab.research.google.com/github/mjang01011/chest_ct_segmentation/blob/main/Chest_CT_Segmentation.ipynb\" target=\"_parent\"><img src=\"https://colab.research.google.com/assets/colab-badge.svg\" alt=\"Open In Colab\"/></a>"
      ]
    },
    {
      "cell_type": "code",
      "execution_count": 1,
      "metadata": {
        "id": "lum0hKj2y8_J"
      },
      "outputs": [],
      "source": [
        "import os\n",
        "import pandas as pd\n",
        "import numpy as np\n",
        "import cv2\n",
        "import matplotlib.pyplot as plt"
      ]
    },
    {
      "cell_type": "markdown",
      "source": [
        "Original Dataset: https://www.kaggle.com/datasets/polomarco/chest-ct-segmentation"
      ],
      "metadata": {
        "id": "M-byHU4d00Xv"
      }
    },
    {
      "cell_type": "code",
      "source": [
        "data_dir = \"../Data/Segmentation/\"\n",
        "data_df = pd.read_csv(os.path.join(data_dir, \"train.csv\"))\n",
        "data_df.head()"
      ],
      "metadata": {
        "id": "x2O8rujRzGdB"
      },
      "execution_count": null,
      "outputs": []
    },
    {
      "cell_type": "code",
      "source": [
        "def extract_client_id(x):\n",
        "  return x.split(\"_\")[0]"
      ],
      "metadata": {
        "id": "du7NlV2muHbD"
      },
      "execution_count": null,
      "outputs": []
    },
    {
      "cell_type": "code",
      "source": [
        "data_df[\"Id\"] = data_df.ImageId.apply(lambda x:extract_client_id(x))\n",
        "data_df"
      ],
      "metadata": {
        "id": "n25pjCB0uIyQ"
      },
      "execution_count": null,
      "outputs": []
    },
    {
      "cell_type": "code",
      "source": [
        "sub_index = 0\n",
        "img_name, mask_name = client_data.iloc[sub_index].values\n",
        "img_path, mask_path = os.path.join(data_dir, \"images\", img_name), os.path.join(data_dir, \"masks\", mask_name)\n",
        "image = cv2.imread(img_path)\n",
        "mask = cv2.imread(mask_path)\n",
        "thres = 240\n",
        "mask[mask < thres] = 0\n",
        "mask[mask >= thres] = 255\n",
        "\n",
        "plt.figure(figsize=(8,6))\n",
        "plt.subplot(121)\n",
        "plt.title(\"image\")\n",
        "plt.imshow(image)\n",
        "plt.subplot(122)\n",
        "plt.title(\"mask\")\n",
        "plt.imshow(mask)\n",
        "plt.tight_layout()"
      ],
      "metadata": {
        "id": "p2Dkg1GnuO7n"
      },
      "execution_count": null,
      "outputs": []
    },
    {
      "cell_type": "code",
      "source": [
        "def get_client_data(data_df, index):\n",
        "    client_ids = np.unique(data_df.Id.values)\n",
        "    client_id = client_ids[index]\n",
        "    client_data = data_df[data_df.Id == client_id]\n",
        "    image_files = list(client_data[\"ImageId\"])\n",
        "    mask_files = list(client_data[\"MaskId\"])\n",
        "    return client_id, image_files, mask_files"
      ],
      "metadata": {
        "id": "4wl67xfawHqW"
      },
      "execution_count": null,
      "outputs": []
    },
    {
      "cell_type": "code",
      "source": [
        "regions = [\"background\", \"trachea\", \"heart\", \"lung\"]\n",
        "colors = ((0,0,0), (255, 0, 0), (0, 255, 0), (0, 0, 255))"
      ],
      "metadata": {
        "id": "dUD08zH9wJVc"
      },
      "execution_count": null,
      "outputs": []
    }
  ]
}